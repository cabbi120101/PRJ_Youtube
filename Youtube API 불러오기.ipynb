{
 "cells": [
  {
   "cell_type": "markdown",
   "id": "0fce1c30",
   "metadata": {},
   "source": [
    "### 사전 작업\n",
    "- https://brunch.co.kr/@joypinkgom/52"
   ]
  },
  {
   "cell_type": "code",
   "execution_count": null,
   "id": "05cc4e59",
   "metadata": {},
   "outputs": [],
   "source": []
  }
 ],
 "metadata": {
  "kernelspec": {
   "display_name": "Python 3",
   "language": "python",
   "name": "python3"
  },
  "language_info": {
   "codemirror_mode": {
    "name": "ipython",
    "version": 3
   },
   "file_extension": ".py",
   "mimetype": "text/x-python",
   "name": "python",
   "nbconvert_exporter": "python",
   "pygments_lexer": "ipython3",
   "version": "3.8.8"
  }
 },
 "nbformat": 4,
 "nbformat_minor": 5
}
